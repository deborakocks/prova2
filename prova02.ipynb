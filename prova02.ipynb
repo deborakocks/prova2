{
 "cells": [
  {
   "cell_type": "code",
   "execution_count": 25,
   "id": "1520c1fa-6dfb-4397-b8cf-a84f8c67dc29",
   "metadata": {},
   "outputs": [],
   "source": [
    "def selection_sort(arr):\n",
    "    for i in range(len(arr)):\n",
    "        min_idx = i\n",
    "        for j in range(i + 1, len(arr)):\n",
    "            if arr[j] < arr[min_idx]:\n",
    "                min_idx = j\n",
    "        arr[i], arr[min_idx] = arr[min_idx], arr[i]\n",
    "    return arr"
   ]
  },
  {
   "cell_type": "code",
   "execution_count": 27,
   "id": "8c31d289-793b-4291-8a7f-678bd01f2e79",
   "metadata": {},
   "outputs": [
    {
     "name": "stdout",
     "output_type": "stream",
     "text": [
      "Lista original: [29, 10, 14, 37, 13]\n",
      "Lista ordenada: [10, 13, 14, 29, 37]\n",
      "Maior elemento: 37\n"
     ]
    }
   ],
   "source": [
    "lista = [29, 10, 14, 37, 13]\n",
    "print(\"Lista original:\", lista)\n",
    "print(\"Lista ordenada:\", selection_sort(lista))\n",
    "\n",
    "def find_max(sorted_list):\n",
    "    if not sorted_list:\n",
    "        return None  \n",
    "    return sorted_list[-1]\n",
    "    \n",
    "maior_elemento = find_max(lista)\n",
    "if maior_elemento is not None:\n",
    "    print(\"Maior elemento:\", maior_elemento)"
   ]
  }
 ],
 "metadata": {
  "kernelspec": {
   "display_name": "Python 3 (ipykernel)",
   "language": "python",
   "name": "python3"
  },
  "language_info": {
   "codemirror_mode": {
    "name": "ipython",
    "version": 3
   },
   "file_extension": ".py",
   "mimetype": "text/x-python",
   "name": "python",
   "nbconvert_exporter": "python",
   "pygments_lexer": "ipython3",
   "version": "3.12.4"
  }
 },
 "nbformat": 4,
 "nbformat_minor": 5
}
